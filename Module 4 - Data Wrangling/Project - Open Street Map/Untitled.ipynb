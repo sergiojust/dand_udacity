{
 "cells": [
  {
   "cell_type": "code",
   "execution_count": 56,
   "metadata": {},
   "outputs": [],
   "source": [
    "import sqlite3\n",
    "import xml.etree.cElementTree as ET\n",
    "from collections import defaultdict\n",
    "import re\n",
    "from pprint import pprint"
   ]
  },
  {
   "cell_type": "code",
   "execution_count": 2,
   "metadata": {},
   "outputs": [
    {
     "name": "stdout",
     "output_type": "stream",
     "text": [
      "[('Desafinado',),\n",
      " ('Garota De Ipanema',),\n",
      " ('Samba De Uma Nota Só (One Note Samba)',),\n",
      " ('Por Causa De Você',),\n",
      " ('Ligia',),\n",
      " ('Fotografia',),\n",
      " ('Dindi (Dindi)',),\n",
      " ('Se Todos Fossem Iguais A Você (Instrumental)',),\n",
      " ('Falando De Amor',),\n",
      " ('Angela',),\n",
      " ('Corcovado (Quiet Nights Of Quiet Stars)',),\n",
      " ('Outra Vez',),\n",
      " ('O Boto (Bôto)',),\n",
      " ('Canta, Canta Mais',),\n",
      " ('Quadrant',),\n",
      " (\"Snoopy's search-Red baron\",),\n",
      " ('Spanish moss-\"A sound portrait\"-Spanish moss',),\n",
      " ('Moon germs',),\n",
      " ('Stratus',),\n",
      " ('The pleasant pheasant',),\n",
      " ('Solo-Panhandler',),\n",
      " ('Do what cha wanna',),\n",
      " ('Heart of the Night',),\n",
      " ('De La Luz',),\n",
      " ('Westwood Moon',),\n",
      " ('Midnight',),\n",
      " ('Playtime',),\n",
      " ('Surrender',),\n",
      " (\"Valentino's\",),\n",
      " ('Believe',),\n",
      " ('As We Sleep',),\n",
      " ('When Evening Falls',),\n",
      " ('J Squared',),\n",
      " ('Best Thing',),\n",
      " (\"Now's The Time\",),\n",
      " ('Jeru',),\n",
      " ('Compulsion',),\n",
      " ('Tempus Fugit',),\n",
      " (\"Walkin'\",),\n",
      " (\"'Round Midnight\",),\n",
      " ('Bye Bye Blackbird',),\n",
      " ('New Rhumba',),\n",
      " ('Generique',),\n",
      " ('Summertime',),\n",
      " ('So What',),\n",
      " ('The Pan Piper',),\n",
      " ('Someday My Prince Will Come',),\n",
      " ('My Funny Valentine (Live)',),\n",
      " ('E.S.P.',),\n",
      " ('Nefertiti',),\n",
      " ('Petits Machins (Little Stuff)',),\n",
      " ('Miles Runs The Voodoo Down',),\n",
      " ('Little Church (Live)',),\n",
      " ('Black Satin',),\n",
      " ('Jean Pierre (Live)',),\n",
      " ('Time After Time',),\n",
      " ('Portia',),\n",
      " ('Jeepers Creepers',),\n",
      " ('Blue Rythm Fantasy',),\n",
      " ('Drum Boogie',),\n",
      " ('Let Me Off Uptown',),\n",
      " ('Leave Us Leap',),\n",
      " ('Opus No.1',),\n",
      " ('Boogie Blues',),\n",
      " ('How High The Moon',),\n",
      " ('Disc Jockey Jump',),\n",
      " (\"Up An' Atom\",),\n",
      " ('Bop Boogie',),\n",
      " ('Lemon Drop',),\n",
      " ('Coronation Drop',),\n",
      " ('Overtime',),\n",
      " ('Imagination',),\n",
      " (\"Don't Take Your Love From Me\",),\n",
      " ('Midget',),\n",
      " (\"I'm Coming Virginia\",),\n",
      " (\"Payin' Them Dues Blues\",),\n",
      " ('Jungle Drums',),\n",
      " ('Showcase',),\n",
      " ('Swedish Schnapps',),\n",
      " ('Roll Call',),\n",
      " ('Otay',),\n",
      " ('Groovus Interruptus',),\n",
      " ('Paris On Mine',),\n",
      " ('In Time',),\n",
      " ('Plan B',),\n",
      " ('Outbreak',),\n",
      " ('Baltimore, DC',),\n",
      " ('Talkin Loud and Saying Nothin',),\n",
      " ('Doce De Carnaval (Candy All)',),\n",
      " ('Lamento De Carnaval',),\n",
      " ('Pretinha',),\n",
      " ('Colibri',),\n",
      " ('Love Is The Colour',),\n",
      " ('Magnetic Ocean',),\n",
      " ('Deep Waters',),\n",
      " (\"L'Arc En Ciel De Miles\",),\n",
      " ('Gypsy',),\n",
      " ('Journey Into Sunlight',),\n",
      " ('Sunchild',),\n",
      " ('Millenium',),\n",
      " (\"Thinking 'Bout Tomorrow\",),\n",
      " (\"Jacob's Ladder\",),\n",
      " ('She Wears Black',),\n",
      " ('Dark Side Of The Cog',),\n",
      " ('Springsville',),\n",
      " ('The Maids Of Cadiz',),\n",
      " ('The Duke',),\n",
      " ('My Ship',),\n",
      " ('Miles Ahead',),\n",
      " ('Blues For Pablo',),\n",
      " ('New Rhumba',),\n",
      " ('The Meaning Of The Blues',),\n",
      " ('Lament',),\n",
      " (\"I Don't Wanna Be Kissed (By Anyone But You)\",),\n",
      " ('Springsville (Alternate Take)',),\n",
      " ('Blues For Pablo (Alternate Take)',),\n",
      " ('The Meaning Of The Blues/Lament (Alternate Take)',),\n",
      " (\"I Don't Wanna Be Kissed (By Anyone But You) (Alternate Take)\",),\n",
      " ('Morning Dance',),\n",
      " ('Jubilee',),\n",
      " ('Rasul',),\n",
      " ('Song For Lorraine',),\n",
      " ('Starburst',),\n",
      " ('Heliopolis',),\n",
      " (\"It Doesn't Matter\",),\n",
      " ('Little Linda',),\n",
      " ('End Of Romanticism',),\n",
      " ('Amanda',),\n",
      " ('Despertar',),\n",
      " (\"OAM's Blues\",)]\n"
     ]
    }
   ],
   "source": [
    "sqlite_file = \"C:\\sqlite\\chinook.db\"\n",
    "conn = sqlite3.connect(sqlite_file)\n",
    "c=conn.cursor()\n",
    "c.execute('SELECT Track.Name FROM Track JOIN Genre ON Track.GenreId = Genre.GenreId WHERE Genre.Name = \"Jazz\"')\n",
    "invoice = c.fetchall()\n",
    "pprint(invoice)"
   ]
  },
  {
   "cell_type": "code",
   "execution_count": 41,
   "metadata": {
    "collapsed": true
   },
   "outputs": [],
   "source": [
    "osm_file.close()\n",
    "SAMPLE_FILE.close()"
   ]
  },
  {
   "cell_type": "code",
   "execution_count": 43,
   "metadata": {},
   "outputs": [],
   "source": [
    "osm_file = open(\"OSM Madrid - XML/madrid_spain.osm\",\"r\", encoding=\"utf8\")\n"
   ]
  },
  {
   "cell_type": "code",
   "execution_count": 44,
   "metadata": {
    "collapsed": true
   },
   "outputs": [],
   "source": [
    "street_type_re = re.compile(r'\\b\\S+\\.?$', re. IGNORECASE)\n",
    "street_types = defaultdict(int)"
   ]
  },
  {
   "cell_type": "code",
   "execution_count": 45,
   "metadata": {
    "collapsed": true
   },
   "outputs": [],
   "source": [
    "def audit_street_type(street_types, street_name):\n",
    "    m = street_type_re.search(street_name)\n",
    "    if m:\n",
    "        street_type = m.group()\n",
    "        street_types[street_type] +=1"
   ]
  },
  {
   "cell_type": "code",
   "execution_count": 46,
   "metadata": {
    "collapsed": true
   },
   "outputs": [],
   "source": [
    "def print_sorted_dict(d):\n",
    "    keys = d.keys(\n",
    "    keys = sorted(keys, key=lambda s: s.lower()))\n",
    "    for k in keys:\n",
    "        v = d[k]\n",
    "        print(\"%s: %d\" % (k, v))"
   ]
  },
  {
   "cell_type": "code",
   "execution_count": 47,
   "metadata": {
    "collapsed": true
   },
   "outputs": [],
   "source": [
    "def is_street_name(elem):\n",
    "    return (elem.tag == \"tag\") and (elem.attrib['k'] == \"addr:street\")"
   ]
  },
  {
   "cell_type": "code",
   "execution_count": 48,
   "metadata": {
    "collapsed": true
   },
   "outputs": [],
   "source": [
    "def audit():\n",
    "    for event, elem in ET.iterparse(osm_file):\n",
    "        if is_street_name(elem):\n",
    "            audit_street_type(street_types, elem.attrib['v'])\n",
    "    print_sorted_dict(street_types)"
   ]
  },
  {
   "cell_type": "code",
   "execution_count": 49,
   "metadata": {
    "collapsed": true
   },
   "outputs": [],
   "source": [
    "if __name__ == '--main--':\n",
    "    audit()"
   ]
  },
  {
   "cell_type": "code",
   "execution_count": 50,
   "metadata": {},
   "outputs": [
    {
     "data": {
      "text/plain": [
       "<_io.TextIOWrapper name='OSM Madrid - XML/madrid_spain.osm' mode='r' encoding='utf8'>"
      ]
     },
     "execution_count": 50,
     "metadata": {},
     "output_type": "execute_result"
    }
   ],
   "source": [
    "osm_file"
   ]
  },
  {
   "cell_type": "code",
   "execution_count": 51,
   "metadata": {
    "collapsed": true
   },
   "outputs": [],
   "source": [
    "def count_tags(filename):\n",
    "    filename.seek(0)\n",
    "    dict_tags = {}\n",
    "    for event, elem in ET.iterparse(filename):\n",
    "        if elem.tag not in dict_tags:\n",
    "            dict_tags[elem.tag] = 0\n",
    "        \n",
    "        dict_tags[elem.tag] += 1\n",
    "    filename.close()\n",
    "    return dict_tags"
   ]
  },
  {
   "cell_type": "code",
   "execution_count": 52,
   "metadata": {},
   "outputs": [
    {
     "ename": "ParseError",
     "evalue": "no element found: line 3, column 2 (<string>)",
     "output_type": "error",
     "traceback": [
      "Traceback \u001b[1;36m(most recent call last)\u001b[0m:\n",
      "  File \u001b[0;32m\"C:\\Users\\Serg\\Anaconda3\\envs\\py3\\lib\\site-packages\\IPython\\core\\interactiveshell.py\"\u001b[0m, line \u001b[0;32m2862\u001b[0m, in \u001b[0;35mrun_code\u001b[0m\n    exec(code_obj, self.user_global_ns, self.user_ns)\n",
      "  File \u001b[0;32m\"<ipython-input-52-4ba9c2bdb965>\"\u001b[0m, line \u001b[0;32m1\u001b[0m, in \u001b[0;35m<module>\u001b[0m\n    tags = count_tags(osm_file)\n",
      "  File \u001b[0;32m\"<ipython-input-51-3eb144a5fce1>\"\u001b[0m, line \u001b[0;32m4\u001b[0m, in \u001b[0;35mcount_tags\u001b[0m\n    for event, elem in ET.iterparse(filename):\n",
      "  File \u001b[0;32m\"C:\\Users\\Serg\\Anaconda3\\envs\\py3\\lib\\xml\\etree\\ElementTree.py\"\u001b[0m, line \u001b[0;32m1227\u001b[0m, in \u001b[0;35miterator\u001b[0m\n    root = pullparser._close_and_return_root()\n",
      "\u001b[1;36m  File \u001b[1;32m\"C:\\Users\\Serg\\Anaconda3\\envs\\py3\\lib\\xml\\etree\\ElementTree.py\"\u001b[1;36m, line \u001b[1;32m1274\u001b[1;36m, in \u001b[1;35m_close_and_return_root\u001b[1;36m\u001b[0m\n\u001b[1;33m    root = self._parser.close()\u001b[0m\n",
      "\u001b[1;36m  File \u001b[1;32m\"<string>\"\u001b[1;36m, line \u001b[1;32munknown\u001b[0m\n\u001b[1;31mParseError\u001b[0m\u001b[1;31m:\u001b[0m no element found: line 3, column 2\n"
     ]
    }
   ],
   "source": [
    "tags = count_tags(osm_file)\n",
    "print(tags)"
   ]
  },
  {
   "cell_type": "code",
   "execution_count": 28,
   "metadata": {},
   "outputs": [
    {
     "ename": "TypeError",
     "evalue": "expected str, bytes or os.PathLike object, not _io.TextIOWrapper",
     "output_type": "error",
     "traceback": [
      "\u001b[1;31m---------------------------------------------------------------------------\u001b[0m",
      "\u001b[1;31mTypeError\u001b[0m                                 Traceback (most recent call last)",
      "\u001b[1;32m<ipython-input-28-cbafcc2f0af1>\u001b[0m in \u001b[0;36m<module>\u001b[1;34m()\u001b[0m\n\u001b[0;32m     15\u001b[0m \u001b[1;33m\u001b[0m\u001b[0m\n\u001b[0;32m     16\u001b[0m \u001b[1;33m\u001b[0m\u001b[0m\n\u001b[1;32m---> 17\u001b[1;33m \u001b[1;32mwith\u001b[0m \u001b[0mopen\u001b[0m\u001b[1;33m(\u001b[0m\u001b[0mSAMPLE_FILE\u001b[0m\u001b[1;33m,\u001b[0m \u001b[1;34m'wb'\u001b[0m\u001b[1;33m)\u001b[0m \u001b[1;32mas\u001b[0m \u001b[0moutput\u001b[0m\u001b[1;33m:\u001b[0m\u001b[1;33m\u001b[0m\u001b[0m\n\u001b[0m\u001b[0;32m     18\u001b[0m     \u001b[0moutput\u001b[0m\u001b[1;33m.\u001b[0m\u001b[0mwrite\u001b[0m\u001b[1;33m(\u001b[0m\u001b[1;34m'<?xml version=\"1.0\" encoding=\"UTF-8\"?>\\n'\u001b[0m\u001b[1;33m)\u001b[0m\u001b[1;33m\u001b[0m\u001b[0m\n\u001b[0;32m     19\u001b[0m     \u001b[0moutput\u001b[0m\u001b[1;33m.\u001b[0m\u001b[0mwrite\u001b[0m\u001b[1;33m(\u001b[0m\u001b[1;34m'<osm>\\n  '\u001b[0m\u001b[1;33m)\u001b[0m\u001b[1;33m\u001b[0m\u001b[0m\n",
      "\u001b[1;31mTypeError\u001b[0m: expected str, bytes or os.PathLike object, not _io.TextIOWrapper"
     ]
    }
   ],
   "source": [
    "k = 10 # Parameter: take every k-th top level element\n",
    "\n",
    "def get_element(osm_file, tags=('node', 'way', 'relation')):\n",
    "    \"\"\"Yield element if it is the right type of tag\n",
    "\n",
    "    Reference:\n",
    "    http://stackoverflow.com/questions/3095434/inserting-newlines-in-xml-file-generated-via-xml-etree-elementtree-in-python\n",
    "    \"\"\"\n",
    "    context = iter(ET.iterparse(OSM_FILE, events=('start', 'end')))\n",
    "    _, root = next(context)\n",
    "    for event, elem in context:\n",
    "        if event == 'end' and elem.tag in tags:\n",
    "            yield elem\n",
    "            root.clear()\n",
    "\n",
    "\n",
    "with open(SAMPLE_FILE, 'wb') as output:\n",
    "    output.write('<?xml version=\"1.0\" encoding=\"UTF-8\"?>\\n')\n",
    "    output.write('<osm>\\n  ')\n",
    "\n",
    "    # Write every kth top level element\n",
    "    for i, element in enumerate(get_element(OSM_FILE)):\n",
    "        if i % k == 0:\n",
    "            output.write(ET.tostring(element, encoding='utf-8'))\n",
    "\n",
    "    output.write('</osm>')\n",
    "    output.close()"
   ]
  },
  {
   "cell_type": "code",
   "execution_count": null,
   "metadata": {
    "collapsed": true
   },
   "outputs": [],
   "source": [
    "SAMPLE_FILE = open(\"OSM Madrid - XML/madrid_spain.osm\", 'r', encoding=\"utf8\")"
   ]
  },
  {
   "cell_type": "code",
   "execution_count": null,
   "metadata": {
    "collapsed": true
   },
   "outputs": [],
   "source": []
  }
 ],
 "metadata": {
  "kernelspec": {
   "display_name": "Python 3",
   "language": "python",
   "name": "python3"
  },
  "language_info": {
   "codemirror_mode": {
    "name": "ipython",
    "version": 3
   },
   "file_extension": ".py",
   "mimetype": "text/x-python",
   "name": "python",
   "nbconvert_exporter": "python",
   "pygments_lexer": "ipython3",
   "version": "3.6.1"
  }
 },
 "nbformat": 4,
 "nbformat_minor": 2
}
