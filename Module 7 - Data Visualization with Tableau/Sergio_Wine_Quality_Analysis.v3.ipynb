{
 "cells": [
  {
   "cell_type": "markdown",
   "metadata": {},
   "source": [
    "# Wine Quality Analysis\n",
    "\n",
    "## by Sergio Marfull\n",
    "____________________________________________________"
   ]
  },
  {
   "cell_type": "markdown",
   "metadata": {},
   "source": [
    "## Summary"
   ]
  },
  {
   "cell_type": "markdown",
   "metadata": {},
   "source": [
    "In this project, we will analyze the quality of the wine (red and white) depending on two variables (level of alcohol and concentration of acetic acid). \n",
    "\n",
    "We will be able to prove and visualize that **high levels of alcohol and low levels of acetic acid have a positive influence in the taste of wine**. We can see this pattern on the box plots and altogether on the scatter plot.\n",
    "\n",
    "\n",
    "\n",
    "* [**Initial version**](https://public.tableau.com/profile/sergio1215#!/vizhome/Sergio_Quality_Wines_Analysis_initialversion/WinesQualityAnalysis)\n",
    "\n",
    "* [**Final version**](https://public.tableau.com/profile/sergio1215#!/vizhome/Sergio_Wines_Quality_Analysis_finalversion/WinesQualityAnalysis)"
   ]
  },
  {
   "cell_type": "markdown",
   "metadata": {},
   "source": [
    "## Design"
   ]
  },
  {
   "cell_type": "markdown",
   "metadata": {},
   "source": [
    "I chose four kinds of plots: **histogram, bar plot, box plot **and** scatter plot**. \n",
    "\n",
    "The **histogram** helps me to present the sample distribution of the variables quality and alcohol for red and white wine which, in this case are normal and right-skewed respectively. Then I used a **bar plot** in order to differentiate the categorical variable quality levels with three groups \"deficient\", \"average\" and \"excellent\". Third, I used boxplots to compare the quality of red and white wine versus the levels of alcohol and acetic acid. Both type of wine, had a similar behaviour and the mean and the interquartile distance show that the variation on alcohol and acid affects the quality level. Finally, I chose a **scatter plot** once I knew the relationship between taste and alcohol and acid. Thus, the plot shows that observations are moving to the bottom-right corner when the quality level increases."
   ]
  },
  {
   "cell_type": "markdown",
   "metadata": {},
   "source": [
    "* **Quality Histogram**:\n",
    "\n",
    "I decided to start with an histogram, so we can see the distribution of the data (normal distribution in this case).\n",
    "\n",
    "After feedback, I added a bit of the information on the distribution and the number of samples of red and white wine and fixed some scale problems on the x-axis."
   ]
  },
  {
   "cell_type": "markdown",
   "metadata": {},
   "source": [
    "* **Quality Levels Histogram**:\n",
    "\n",
    "I created a categorical variable to group quality (from 3 to 9) into three levels: deficient, average and excellent. \n",
    "\n",
    "In the first attemp, I didn't realized that the columns were in alphabetical order and not in ascendent quality order. After feedback, I ordered the columns, and added a color division according to its quality (3-9),  so we can see more data on it. I also removed the y-axis so it can't distract the attention. However, you can still see the number of samples by hovering the column."
   ]
  },
  {
   "cell_type": "markdown",
   "metadata": {},
   "source": [
    "* **Alcohol distribution by wine type**:\n",
    "\n",
    "I wanted to compare the distribution of alcohol as a percentage of volume for both kinds of wine and show that they have similar distributions, so we can carry on with the investigation.\n",
    "\n",
    "In this case, I just rearranged the plots in two columns, instead of two rows, and added dimension to the variable (e.g. % volume)"
   ]
  },
  {
   "cell_type": "markdown",
   "metadata": {},
   "source": [
    "* **Boxplot Quality Level vs. Alcohol and Boxplot Quality Level vs Volatile Acidity**:\n",
    "\n",
    "I chose those 2 variables intentionally because both of them have a relation with the quality level of the wine. Then I decided to boxplot and compare them to the three levels of quality that we created in the beginning.\n",
    "\n",
    "After feedback, I removed the blue circles because they are not adding much information, I changed the color (one for each variable) and changed the labels adding the dimensions of the variables."
   ]
  },
  {
   "cell_type": "markdown",
   "metadata": {},
   "source": [
    "* **Quality Level vs Alcohol and Volatile Acidity**:\n",
    "\n",
    "For the final plot, I wanted to merge both variables and quality in one plot, so I designed a scatter plot with quality levels colored, in order to see the trend of excellent wines to account for a high grade of alcohol and low level of acetic acid.\n",
    "\n",
    "After feedback I thought that it could be better represented. It was so messy. Then I separated quality level in three differente columns, I changed the form of the markers (only aesthetic decision), and added dimensions to the labels. I also removed one outlier that was reducing the scale because it probably was a wrong measure.\n",
    "\n"
   ]
  },
  {
   "cell_type": "markdown",
   "metadata": {},
   "source": [
    "## Feedback"
   ]
  },
  {
   "cell_type": "markdown",
   "metadata": {},
   "source": [
    "* **Quality Histogram**:\n",
    "\n",
    "There are some incongruence between the number in the x-axis and the bin width of the columns. It doesn't tell anything about red and white wine separatedly."
   ]
  },
  {
   "cell_type": "markdown",
   "metadata": {},
   "source": [
    "* **Quality Levels Histogram**:\n",
    "\n",
    "They are ordered alphabetically. The would look better if ordered in ascending quality level. You could give more information on the quality variable that you had in the beginning"
   ]
  },
  {
   "cell_type": "markdown",
   "metadata": {},
   "source": [
    "* **Alcohol distribution by wine type**:\n",
    "\n",
    "They are OK as a comparison of the distribution. I would probably put them side by side."
   ]
  },
  {
   "cell_type": "markdown",
   "metadata": {},
   "source": [
    "* **Boxplot Quality Level vs. Alcohol and Boxplot Quality Level vs Volatile Acidity**:\n",
    "\n",
    "Both plots transmit what you want but they are messy and a bit ugly."
   ]
  },
  {
   "cell_type": "markdown",
   "metadata": {},
   "source": [
    "* **Quality Level vs Alcohol and Volatile Acidity**:\n",
    "\n",
    "I can see the pattern you tell, the green circles in the bottom-right side of the plot but it is such a messy scatter plot. I would try to figure out another way to plot it.\n"
   ]
  },
  {
   "cell_type": "markdown",
   "metadata": {},
   "source": [
    "* **Udacity reviewer feedback**:\n",
    "\n",
    "In the second dashboard, the filter for quality should be the hue of the same color from light to dark. This way the reader will be able to identify that if the color is lighter then the value is small and vice Versa. **(I used a blue pattern from light to dark to match fix it)**.\n",
    "\n",
    "Please explain at least one relationship which you derived from the visualizations in the summary section of the write-up **(I added the explanation of the relationship between the quality level of wines and the level of alcohol and acetic acid)**\n",
    "\n",
    "Please explain your design choices. Why you chose to plot a particular plot for analyzing the relationship between the selected variables. **(I added one paragraph explaining why I chose the histograms, bar plots, box plots and scatter plots)**"
   ]
  },
  {
   "cell_type": "markdown",
   "metadata": {},
   "source": [
    "## Resources"
   ]
  },
  {
   "cell_type": "markdown",
   "metadata": {},
   "source": [
    "Udacity - http://www.udacity.com\n",
    "\n",
    "Tableau - https://www.tableau.com/es-es/learn/training\n",
    "\n",
    "Stackoverflow - http://stackoverflow.com"
   ]
  }
 ],
 "metadata": {
  "kernelspec": {
   "display_name": "Python 3",
   "language": "python",
   "name": "python3"
  },
  "language_info": {
   "codemirror_mode": {
    "name": "ipython",
    "version": 3
   },
   "file_extension": ".py",
   "mimetype": "text/x-python",
   "name": "python",
   "nbconvert_exporter": "python",
   "pygments_lexer": "ipython3",
   "version": "3.6.1"
  }
 },
 "nbformat": 4,
 "nbformat_minor": 2
}
