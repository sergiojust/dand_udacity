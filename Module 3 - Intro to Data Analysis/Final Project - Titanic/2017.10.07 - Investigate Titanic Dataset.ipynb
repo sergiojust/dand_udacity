{
 "cells": [
  {
   "cell_type": "markdown",
   "metadata": {},
   "source": [
    "# Titanic Data Analysis "
   ]
  },
  {
   "cell_type": "markdown",
   "metadata": {},
   "source": [
    "## Overview\n",
    "\n",
    "Titanic was a British passenger liner that sank in the North Atlantic Ocean in the early morning hours of 15 April 1912, after it collided with an iceberg during its maiden voyage from Southampton to New York City. \n"
   ]
  },
  {
   "cell_type": "code",
   "execution_count": 1,
   "metadata": {
    "collapsed": true
   },
   "outputs": [],
   "source": [
    "import numpy as np\n",
    "import pandas as pd\n",
    "import matplotlib as plt\n",
    "import seaborn as sns\n",
    "%matplotlib inline"
   ]
  },
  {
   "cell_type": "code",
   "execution_count": 2,
   "metadata": {},
   "outputs": [
    {
     "data": {
      "text/html": [
       "\n",
       "<style>\n",
       ".output_png {\n",
       "    display: table-cell;\n",
       "    text-align: left;\n",
       "    vertical-align: middle;\n",
       "}\n",
       "</style>\n"
      ],
      "text/plain": [
       "<IPython.core.display.HTML object>"
      ]
     },
     "execution_count": 2,
     "metadata": {},
     "output_type": "execute_result"
    }
   ],
   "source": [
    "# This additional cell will make plots appear in the center of the jupyter cell. Just for being a bit more stylish\n",
    "from IPython.core.display import HTML\n",
    "HTML(\"\"\"\n",
    "<style>\n",
    ".output_png {\n",
    "    display: table-cell;\n",
    "    text-align: left;\n",
    "    vertical-align: middle;\n",
    "}\n",
    "</style>\n",
    "\"\"\")"
   ]
  },
  {
   "cell_type": "markdown",
   "metadata": {},
   "source": [
    "## Step 1 - Questions\n",
    "\n",
    "In order to formulate better questions, I will first have a look on the different columns or variables of the dataset and deeply understand the meaning of each one by having a look on the [Kaggle Website]( https://www.kaggle.com/c/titanic/data). To do so, I will import the main packages needed for carrying out this project and I will convert the `.csv` dataset into a `pandas.DataFrame` and show the `head` of the `DataFrame`"
   ]
  },
  {
   "cell_type": "code",
   "execution_count": 3,
   "metadata": {},
   "outputs": [
    {
     "data": {
      "text/html": [
       "<div>\n",
       "<style>\n",
       "    .dataframe thead tr:only-child th {\n",
       "        text-align: right;\n",
       "    }\n",
       "\n",
       "    .dataframe thead th {\n",
       "        text-align: left;\n",
       "    }\n",
       "\n",
       "    .dataframe tbody tr th {\n",
       "        vertical-align: top;\n",
       "    }\n",
       "</style>\n",
       "<table border=\"1\" class=\"dataframe\">\n",
       "  <thead>\n",
       "    <tr style=\"text-align: right;\">\n",
       "      <th></th>\n",
       "      <th>Survived</th>\n",
       "      <th>Pclass</th>\n",
       "      <th>Name</th>\n",
       "      <th>Sex</th>\n",
       "      <th>Age</th>\n",
       "      <th>SibSp</th>\n",
       "      <th>Parch</th>\n",
       "      <th>Ticket</th>\n",
       "      <th>Fare</th>\n",
       "      <th>Cabin</th>\n",
       "      <th>Embarked</th>\n",
       "    </tr>\n",
       "    <tr>\n",
       "      <th>PassengerId</th>\n",
       "      <th></th>\n",
       "      <th></th>\n",
       "      <th></th>\n",
       "      <th></th>\n",
       "      <th></th>\n",
       "      <th></th>\n",
       "      <th></th>\n",
       "      <th></th>\n",
       "      <th></th>\n",
       "      <th></th>\n",
       "      <th></th>\n",
       "    </tr>\n",
       "  </thead>\n",
       "  <tbody>\n",
       "    <tr>\n",
       "      <th>1</th>\n",
       "      <td>0</td>\n",
       "      <td>3</td>\n",
       "      <td>Braund, Mr. Owen Harris</td>\n",
       "      <td>male</td>\n",
       "      <td>22.0</td>\n",
       "      <td>1</td>\n",
       "      <td>0</td>\n",
       "      <td>A/5 21171</td>\n",
       "      <td>7.2500</td>\n",
       "      <td>NaN</td>\n",
       "      <td>S</td>\n",
       "    </tr>\n",
       "    <tr>\n",
       "      <th>2</th>\n",
       "      <td>1</td>\n",
       "      <td>1</td>\n",
       "      <td>Cumings, Mrs. John Bradley (Florence Briggs Th...</td>\n",
       "      <td>female</td>\n",
       "      <td>38.0</td>\n",
       "      <td>1</td>\n",
       "      <td>0</td>\n",
       "      <td>PC 17599</td>\n",
       "      <td>71.2833</td>\n",
       "      <td>C85</td>\n",
       "      <td>C</td>\n",
       "    </tr>\n",
       "    <tr>\n",
       "      <th>3</th>\n",
       "      <td>1</td>\n",
       "      <td>3</td>\n",
       "      <td>Heikkinen, Miss. Laina</td>\n",
       "      <td>female</td>\n",
       "      <td>26.0</td>\n",
       "      <td>0</td>\n",
       "      <td>0</td>\n",
       "      <td>STON/O2. 3101282</td>\n",
       "      <td>7.9250</td>\n",
       "      <td>NaN</td>\n",
       "      <td>S</td>\n",
       "    </tr>\n",
       "    <tr>\n",
       "      <th>4</th>\n",
       "      <td>1</td>\n",
       "      <td>1</td>\n",
       "      <td>Futrelle, Mrs. Jacques Heath (Lily May Peel)</td>\n",
       "      <td>female</td>\n",
       "      <td>35.0</td>\n",
       "      <td>1</td>\n",
       "      <td>0</td>\n",
       "      <td>113803</td>\n",
       "      <td>53.1000</td>\n",
       "      <td>C123</td>\n",
       "      <td>S</td>\n",
       "    </tr>\n",
       "    <tr>\n",
       "      <th>5</th>\n",
       "      <td>0</td>\n",
       "      <td>3</td>\n",
       "      <td>Allen, Mr. William Henry</td>\n",
       "      <td>male</td>\n",
       "      <td>35.0</td>\n",
       "      <td>0</td>\n",
       "      <td>0</td>\n",
       "      <td>373450</td>\n",
       "      <td>8.0500</td>\n",
       "      <td>NaN</td>\n",
       "      <td>S</td>\n",
       "    </tr>\n",
       "  </tbody>\n",
       "</table>\n",
       "</div>"
      ],
      "text/plain": [
       "             Survived  Pclass  \\\n",
       "PassengerId                     \n",
       "1                   0       3   \n",
       "2                   1       1   \n",
       "3                   1       3   \n",
       "4                   1       1   \n",
       "5                   0       3   \n",
       "\n",
       "                                                          Name     Sex   Age  \\\n",
       "PassengerId                                                                    \n",
       "1                                      Braund, Mr. Owen Harris    male  22.0   \n",
       "2            Cumings, Mrs. John Bradley (Florence Briggs Th...  female  38.0   \n",
       "3                                       Heikkinen, Miss. Laina  female  26.0   \n",
       "4                 Futrelle, Mrs. Jacques Heath (Lily May Peel)  female  35.0   \n",
       "5                                     Allen, Mr. William Henry    male  35.0   \n",
       "\n",
       "             SibSp  Parch            Ticket     Fare Cabin Embarked  \n",
       "PassengerId                                                          \n",
       "1                1      0         A/5 21171   7.2500   NaN        S  \n",
       "2                1      0          PC 17599  71.2833   C85        C  \n",
       "3                0      0  STON/O2. 3101282   7.9250   NaN        S  \n",
       "4                1      0            113803  53.1000  C123        S  \n",
       "5                0      0            373450   8.0500   NaN        S  "
      ]
     },
     "execution_count": 3,
     "metadata": {},
     "output_type": "execute_result"
    }
   ],
   "source": [
    "# Create a DataFrame from a .csv file with the comprehensive data of Titanic passengers and show the first rows\n",
    "titanic_data = pd.read_csv('titanic-data.csv', index_col = 0)\n",
    "titanic_data.head()"
   ]
  },
  {
   "cell_type": "markdown",
   "metadata": {},
   "source": [
    "We can realize that the column **Cabin** seems to have some issues with the type of data, as we can see some `NaN`'s in it, but we will address this issue later on."
   ]
  },
  {
   "cell_type": "markdown",
   "metadata": {},
   "source": [
    "Below, I brought the explanation of the different columns to ease the understanding to anyone reading this project in the future. I'm sure that it'll be pretty useful!\n",
    " \n",
    " Variable | Definition  | Variable notes\n",
    " :---|:--- |:---\n",
    "Survived |Survived (0 = No, 1 = Yes) |\n",
    "Pclass |Ticket Class (1 = 1st, 2 = 2nd, 3 = 3rd)|**Pclass**: A proxy for socio-economic status (SES) (1st = Upper, 2nd = Middle, 3rd = Lower)\n",
    "Name |Name|\n",
    "Sex |Sex|\n",
    "Age |Age in years|**Age**: Age is fractional if less than 1. If the age is estimated, is it in the form of xx.5\n",
    "SibSp |# of siblings/spouses aboard on Titanic|**SibSp**: The dataset defines family relations in this way... **Sibling** = brother, sister, stepbrother, stepsister **Spouse** = husband, wife (mistresses and fiancés were ignored)\n",
    "Parch |# of parents / children aboard the Titanic|**Parch**: The dataset defines family relations in this way... Some children travelled only with a nanny, therefore parch=0 for them. **Parent** = mother, father **Child** = daughter, son, stepdaughter, stepson\n",
    "Ticket |Ticket number|\n",
    "Fare |Passenger fare|\n",
    "Cabin |Cabin number|\n",
    "Embarked |Port of embarkation (C = Cherbourg, Q = Queenstown, S = Southampton)|"
   ]
  },
  {
   "cell_type": "markdown",
   "metadata": {
    "collapsed": true
   },
   "source": [
    "Once we better understood the dataset, we are in place of stating some questions to be demonstrated later on. What factors made people more likely to survive?\n",
    "1. **Were age and gender relevant factors in survival rate?**\n",
    "2. **Did women and children had a significantly better survival rate?** \n",
    "3. **Did people from upper classes have a better survival rate regardless sex and age?**\n",
    "4. **Was the location of the cabin a key factor on survival rate?**"
   ]
  },
  {
   "cell_type": "markdown",
   "metadata": {},
   "source": [
    "## Step 2 - Data wrangling\n",
    "For this task, we will ensure that our passenger database is complete and there are not duplicated entries.If not, we will identify its data gaps and singularities and fix them."
   ]
  },
  {
   "cell_type": "code",
   "execution_count": 4,
   "metadata": {
    "collapsed": true
   },
   "outputs": [],
   "source": [
    "# Lowercase all the variable names\n",
    "titanic_data.rename(columns = lambda x: x.lower(), inplace = True)\n"
   ]
  },
  {
   "cell_type": "code",
   "execution_count": 5,
   "metadata": {},
   "outputs": [
    {
     "name": "stdout",
     "output_type": "stream",
     "text": [
      "survived    891\n",
      "pclass      891\n",
      "name        891\n",
      "sex         891\n",
      "age         714\n",
      "sibsp       891\n",
      "parch       891\n",
      "ticket      891\n",
      "fare        891\n",
      "cabin       204\n",
      "embarked    889\n",
      "dtype: int64\n",
      "\n",
      " Number of duplicate entries: 0\n"
     ]
    }
   ],
   "source": [
    "# Count the records for each data field and identify their gaps and singularities\n",
    "print(titanic_data.count())\n",
    "\n",
    "# And identify and remove duplicate entries\n",
    "titanic_data_duplicates = titanic_data.duplicated()\n",
    "print('\\n Number of duplicate entries: {}'.format(titanic_data_duplicates.sum()))"
   ]
  },
  {
   "cell_type": "markdown",
   "metadata": {},
   "source": [
    "There were an estimated 2,224 passengers and crew aboard the ship. \n",
    "We have found that the majority of the 891 passengers of this sample have records in all the fields. However, the fields **`embarked`** , **`age`** and **`cabin`**:"
   ]
  },
  {
   "cell_type": "markdown",
   "metadata": {},
   "source": [
    "* **Embarkation port**: there are 2 people whose embarkation port is not specified"
   ]
  },
  {
   "cell_type": "code",
   "execution_count": 6,
   "metadata": {},
   "outputs": [
    {
     "data": {
      "text/html": [
       "<div>\n",
       "<style>\n",
       "    .dataframe thead tr:only-child th {\n",
       "        text-align: right;\n",
       "    }\n",
       "\n",
       "    .dataframe thead th {\n",
       "        text-align: left;\n",
       "    }\n",
       "\n",
       "    .dataframe tbody tr th {\n",
       "        vertical-align: top;\n",
       "    }\n",
       "</style>\n",
       "<table border=\"1\" class=\"dataframe\">\n",
       "  <thead>\n",
       "    <tr style=\"text-align: right;\">\n",
       "      <th></th>\n",
       "      <th>survived</th>\n",
       "      <th>pclass</th>\n",
       "      <th>name</th>\n",
       "      <th>sex</th>\n",
       "      <th>age</th>\n",
       "      <th>sibsp</th>\n",
       "      <th>parch</th>\n",
       "      <th>ticket</th>\n",
       "      <th>fare</th>\n",
       "      <th>cabin</th>\n",
       "      <th>embarked</th>\n",
       "    </tr>\n",
       "    <tr>\n",
       "      <th>PassengerId</th>\n",
       "      <th></th>\n",
       "      <th></th>\n",
       "      <th></th>\n",
       "      <th></th>\n",
       "      <th></th>\n",
       "      <th></th>\n",
       "      <th></th>\n",
       "      <th></th>\n",
       "      <th></th>\n",
       "      <th></th>\n",
       "      <th></th>\n",
       "    </tr>\n",
       "  </thead>\n",
       "  <tbody>\n",
       "    <tr>\n",
       "      <th>62</th>\n",
       "      <td>1</td>\n",
       "      <td>1</td>\n",
       "      <td>Icard, Miss. Amelie</td>\n",
       "      <td>female</td>\n",
       "      <td>38.0</td>\n",
       "      <td>0</td>\n",
       "      <td>0</td>\n",
       "      <td>113572</td>\n",
       "      <td>80.0</td>\n",
       "      <td>B28</td>\n",
       "      <td>NaN</td>\n",
       "    </tr>\n",
       "    <tr>\n",
       "      <th>830</th>\n",
       "      <td>1</td>\n",
       "      <td>1</td>\n",
       "      <td>Stone, Mrs. George Nelson (Martha Evelyn)</td>\n",
       "      <td>female</td>\n",
       "      <td>62.0</td>\n",
       "      <td>0</td>\n",
       "      <td>0</td>\n",
       "      <td>113572</td>\n",
       "      <td>80.0</td>\n",
       "      <td>B28</td>\n",
       "      <td>NaN</td>\n",
       "    </tr>\n",
       "  </tbody>\n",
       "</table>\n",
       "</div>"
      ],
      "text/plain": [
       "             survived  pclass                                       name  \\\n",
       "PassengerId                                                                \n",
       "62                  1       1                        Icard, Miss. Amelie   \n",
       "830                 1       1  Stone, Mrs. George Nelson (Martha Evelyn)   \n",
       "\n",
       "                sex   age  sibsp  parch  ticket  fare cabin embarked  \n",
       "PassengerId                                                           \n",
       "62           female  38.0      0      0  113572  80.0   B28      NaN  \n",
       "830          female  62.0      0      0  113572  80.0   B28      NaN  "
      ]
     },
     "execution_count": 6,
     "metadata": {},
     "output_type": "execute_result"
    }
   ],
   "source": [
    "# Identify both passengers who don't have record for its emarkation port\n",
    "titanic_data[titanic_data.embarked.isnull() == True]"
   ]
  },
  {
   "cell_type": "markdown",
   "metadata": {},
   "source": [
    "> According to [Encyclopedia Titanica](https://www.encyclopedia-titanica.org/titanic-survivor/amelia-icard.html),  Mrs. George Nelson Stone (Martha Evelyn Stone Harrington) and Miss Rose Amélie Icard travelled together and both boarded the Titanic at Southampton, so we could add their embarkation port to the DataFrame in order to get more accurate results."
   ]
  },
  {
   "cell_type": "code",
   "execution_count": 7,
   "metadata": {
    "collapsed": true
   },
   "outputs": [],
   "source": [
    "# Enrich the data with the information we found in \"Encyclopedia Titanica\"\n",
    "titanic_data.loc[62, 'embarked'] = 'S'\n",
    "titanic_data.loc[830, 'embarked'] = 'S'"
   ]
  },
  {
   "cell_type": "markdown",
   "metadata": {},
   "source": [
    "* **Age**: we only have 714 records of passengers whose age then is known\n",
    "* **Cabin**: we only know the cabin that 204 people occupied"
   ]
  },
  {
   "cell_type": "code",
   "execution_count": 8,
   "metadata": {
    "collapsed": true
   },
   "outputs": [],
   "source": [
    "# Find the subgroup of people whose age is known and create a cleaned Dataframe by \"age\"\n",
    "titanic_data_age = titanic_data[titanic_data.age.isnull() == False]\n",
    "\n",
    "# Find the subgroup of people whose cabin number is known (independently to their age) and create a \n",
    "# second cleaned Dataframe for a subsequent analysis\n",
    "titanic_data_cabins = titanic_data[titanic_data.cabin.isnull() == False]\n"
   ]
  },
  {
   "cell_type": "markdown",
   "metadata": {},
   "source": [
    "## Step 3 - Explore\n",
    "We will fundamentally base our study in the analysis of certain subgroups of the dataset and their survival rate. We will figure out some ideas on what could be significant causes of either survivals or casualties starting from the different fields provided in the dataset and getting other extra subfields that we can find interesting for enriching the study."
   ]
  },
  {
   "cell_type": "code",
   "execution_count": 9,
   "metadata": {
    "scrolled": true
   },
   "outputs": [
    {
     "name": "stderr",
     "output_type": "stream",
     "text": [
      "C:\\Users\\Serg\\Anaconda3\\envs\\py3\\lib\\site-packages\\pandas\\core\\indexing.py:337: SettingWithCopyWarning: \n",
      "A value is trying to be set on a copy of a slice from a DataFrame.\n",
      "Try using .loc[row_indexer,col_indexer] = value instead\n",
      "\n",
      "See the caveats in the documentation: http://pandas.pydata.org/pandas-docs/stable/indexing.html#indexing-view-versus-copy\n",
      "  self.obj[key] = _infer_fill_value(value)\n",
      "C:\\Users\\Serg\\Anaconda3\\envs\\py3\\lib\\site-packages\\pandas\\core\\indexing.py:517: SettingWithCopyWarning: \n",
      "A value is trying to be set on a copy of a slice from a DataFrame.\n",
      "Try using .loc[row_indexer,col_indexer] = value instead\n",
      "\n",
      "See the caveats in the documentation: http://pandas.pydata.org/pandas-docs/stable/indexing.html#indexing-view-versus-copy\n",
      "  self.obj[item] = s\n"
     ]
    },
    {
     "data": {
      "image/png": "[encoded data removed]",
      "text/plain": [
       "<matplotlib.figure.Figure at 0x207695a62e8>"
      ]
     },
     "metadata": {},
     "output_type": "display_data"
    }
   ],
   "source": [
    "# Plot a pie chart with both survivors and casualties to get the big picture\n",
    "survival_perc = titanic_data[\"survived\"].value_counts().plot(kind='pie', labels = ['Casualties', 'Survivors'], colors = ['#AAAAAA', '#F5D04C'],\n",
    "                                             autopct='%1.1f%%', explode = (0, 0.04), fontsize = 14)\n",
    "survival_perc.set_ylabel('')\n",
    "survival_perc.axis('equal')\n",
    "\n",
    "# Define subsets for age range, so we can divide people by \n",
    "titanic_data_age.loc[titanic_data_age['age'] <= 18, 'age_range'] = '<=18'\n",
    "titanic_data_age.loc[titanic_data_age['age'] > 55, 'age_range'] = '>55'\n",
    "titanic_data_age.loc[(titanic_data_age['age'] > 18) & (titanic_data_age['age'] <= 55), 'age_range'] = 'Adults'\n"
   ]
  },
  {
   "cell_type": "markdown",
   "metadata": {},
   "source": [
    "Among this sample of 889 passengers of the Titanic, less than 40% of them remained alive after the catastrophe"
   ]
  },
  {
   "cell_type": "markdown",
   "metadata": {},
   "source": [
    "### 1. **Were age and gender relevant factors in survival rate?**"
   ]
  },
  {
   "cell_type": "code",
   "execution_count": 10,
   "metadata": {},
   "outputs": [
    {
     "data": {
      "text/plain": [
       "pclass  survived  sex   \n",
       "1       0         female      3\n",
       "                  male       61\n",
       "        1         female     82\n",
       "                  male       40\n",
       "2       0         female      6\n",
       "                  male       84\n",
       "        1         female     68\n",
       "                  male       15\n",
       "3       0         female     55\n",
       "                  male      215\n",
       "        1         female     47\n",
       "                  male       38\n",
       "dtype: int64"
      ]
     },
     "execution_count": 10,
     "metadata": {},
     "output_type": "execute_result"
    }
   ],
   "source": [
    "# Get the actual figures grouped by class, suvival and sex\n",
    "groupedby_class_survived_size = titanic_data_age.groupby(['pclass','survived','sex']).size()\n",
    "groupedby_class_survived_size\n"
   ]
  },
  {
   "cell_type": "markdown",
   "metadata": {},
   "source": [
    "### 1. **Was age a relevant factor in survival rate?**"
   ]
  },
  {
   "cell_type": "code",
   "execution_count": 11,
   "metadata": {},
   "outputs": [
    {
     "data": {
      "text/plain": [
       "<seaborn.axisgrid.FacetGrid at 0x20769564e48>"
      ]
     },
     "execution_count": 11,
     "metadata": {},
     "output_type": "execute_result"
    },
    {
     "data": {
      "image/png": "[encoded data removed]",
      "text/plain": [
       "<matplotlib.figure.Figure at 0x20769967128>"
      ]
     },
     "metadata": {},
     "output_type": "display_data"
    }
   ],
   "source": [
    "# Create a boxplot crossing Age and Survival rate data. Then make compare by sex\n",
    "g = sns.factorplot(x=\"survived\", y=\"age\", hue='sex', data=titanic_data_age, kind=\"box\", size=7, aspect=.8)\n",
    "\n",
    "# Fix the labels\n",
    "g.set_axis_labels('Suvivors', 'Age of Passengers').set_xticklabels([\"Casualties\", \"Survivals\"])\n",
    "\n"
   ]
  },
  {
   "cell_type": "code",
   "execution_count": 12,
   "metadata": {},
   "outputs": [
    {
     "data": {
      "text/plain": [
       "<seaborn.axisgrid.FacetGrid at 0x2076959c160>"
      ]
     },
     "execution_count": 12,
     "metadata": {},
     "output_type": "execute_result"
    },
    {
     "data": {
      "image/png": "[encoded data removed]",
      "text/plain": [
       "<matplotlib.figure.Figure at 0x20769b52550>"
      ]
     },
     "metadata": {},
     "output_type": "display_data"
    }
   ],
   "source": [
    "# Create a boxplot crossing Age and Survival rate data. Then make compare by class\n",
    "g = sns.factorplot(x=\"survived\", y=\"age\", data=titanic_data_age, kind=\"box\", size=7, aspect=.8)\n",
    "\n",
    "# Fix up the labels\n",
    "g.set_axis_labels('Suvivors', 'Age of Passengers').set_xticklabels([\"Casualties\", \"Survivals\"])\n",
    "\n"
   ]
  },
  {
   "cell_type": "markdown",
   "metadata": {},
   "source": [
    "We can see that the age was not a determinant factor for survivals or casualties"
   ]
  },
  {
   "cell_type": "markdown",
   "metadata": {},
   "source": [
    "### 2. **Did women and children had a significantly better survival rate?** \n"
   ]
  },
  {
   "cell_type": "code",
   "execution_count": 13,
   "metadata": {},
   "outputs": [
    {
     "name": "stderr",
     "output_type": "stream",
     "text": [
      "C:\\Users\\Serg\\Anaconda3\\envs\\py3\\lib\\site-packages\\pandas\\core\\indexing.py:337: SettingWithCopyWarning: \n",
      "A value is trying to be set on a copy of a slice from a DataFrame.\n",
      "Try using .loc[row_indexer,col_indexer] = value instead\n",
      "\n",
      "See the caveats in the documentation: http://pandas.pydata.org/pandas-docs/stable/indexing.html#indexing-view-versus-copy\n",
      "  self.obj[key] = _infer_fill_value(value)\n",
      "C:\\Users\\Serg\\Anaconda3\\envs\\py3\\lib\\site-packages\\pandas\\core\\indexing.py:517: SettingWithCopyWarning: \n",
      "A value is trying to be set on a copy of a slice from a DataFrame.\n",
      "Try using .loc[row_indexer,col_indexer] = value instead\n",
      "\n",
      "See the caveats in the documentation: http://pandas.pydata.org/pandas-docs/stable/indexing.html#indexing-view-versus-copy\n",
      "  self.obj[item] = s\n"
     ]
    },
    {
     "data": {
      "text/plain": [
       "[<matplotlib.text.Text at 0x2076ac4bfd0>,\n",
       " <matplotlib.text.Text at 0x2076ac4f630>,\n",
       " <matplotlib.text.Text at 0x2076ac9dcc0>]"
      ]
     },
     "execution_count": 13,
     "metadata": {},
     "output_type": "execute_result"
    },
    {
     "data": {
      "image/png": "[encoded data removed]",
      "text/plain": [
       "<matplotlib.figure.Figure at 0x207674a26d8>"
      ]
     },
     "metadata": {},
     "output_type": "display_data"
    }
   ],
   "source": [
    "# Define subsets for age range, so we can divide people by \n",
    "titanic_data_age.loc[(titanic_data_age['age'] <= 18) | ((titanic_data_age['age'] > 18) & (titanic_data_age['sex'] == 'female')), 'gender_and_children'] = 'women and children'\n",
    "titanic_data_age.loc[(titanic_data_age['age'] > 18) & (titanic_data_age['sex'] == 'male'), 'gender_and_children'] = 'men'\n",
    "\n",
    "# Create a barplot \n",
    "ax = sns.barplot(x=\"pclass\", y=\"survived\", hue=\"gender_and_children\", data=titanic_data_age, ci = None, hue_order = ['women and children', 'men'])\n",
    "\n",
    "# Add percentage tags to the top of each bar\n",
    "for p in ax.patches:\n",
    "    ax.annotate(\"{:.1%}\".format(p.get_height()), (p.get_x() + 0.09, p.get_height() + 0.02), fontsize = 9)\n",
    "\n",
    "# Rename the labels\n",
    "ax.set(xlabel='Class', ylabel='Survival Rate')\n",
    "ax.set_xticklabels([\"1st\", \"2nd\", \"3rd\"])\n",
    "    "
   ]
  },
  {
   "cell_type": "code",
   "execution_count": 20,
   "metadata": {},
   "outputs": [
    {
     "data": {
      "image/png": "[encoded data removed]",
      "text/plain": [
       "<matplotlib.figure.Figure at 0x19cf6de35f8>"
      ]
     },
     "metadata": {},
     "output_type": "display_data"
    }
   ],
   "source": [
    "# Create a point plot to see the differences between passenger classes in the survival rate\n",
    "ax = sns.pointplot(x=\"pclass\", y=\"survived\", hue=\"gender_and_children\", data=titanic_data_age, ci = None, hue_order = ['women and children', 'men'])"
   ]
  },
  {
   "cell_type": "markdown",
   "metadata": {},
   "source": [
    "### 3. **Did people from upper classes have a better survival rate regardless sex and age?**\n"
   ]
  },
  {
   "cell_type": "code",
   "execution_count": 21,
   "metadata": {},
   "outputs": [
    {
     "data": {
      "text/plain": [
       "[<matplotlib.text.Text at 0x19cf7007ac8>,\n",
       " <matplotlib.text.Text at 0x19cf6ff5f60>,\n",
       " <matplotlib.text.Text at 0x19cf7071320>]"
      ]
     },
     "execution_count": 21,
     "metadata": {},
     "output_type": "execute_result"
    },
    {
     "data": {
      "image/png": "[encoded data removed]",
      "text/plain": [
       "<matplotlib.figure.Figure at 0x19cf6f8df60>"
      ]
     },
     "metadata": {},
     "output_type": "display_data"
    }
   ],
   "source": [
    "# Create a barplot \n",
    "ax = sns.barplot(x=\"pclass\", y=\"survived\", hue=\"age_range\", data=titanic_data_age, ci = None, hue_order = ['<=18', 'Adults', '>55'])\n",
    "\n",
    "# Add percentage tags to the top of each bar\n",
    "for p in ax.patches:\n",
    "    ax.annotate(\"{:.1%}\".format(p.get_height()), (p.get_x() + 0.03, p.get_height() + 0.02), fontsize = 9)\n",
    "\n",
    "# Rename the labels\n",
    "ax.set(xlabel='Class', ylabel='Survival Rate')\n",
    "ax.set_xticklabels([\"1st\", \"2nd\", \"3rd\"])\n",
    "    "
   ]
  },
  {
   "cell_type": "code",
   "execution_count": 22,
   "metadata": {},
   "outputs": [
    {
     "data": {
      "image/png": "[encoded data removed]",
      "text/plain": [
       "<matplotlib.figure.Figure at 0x19cf5c8efd0>"
      ]
     },
     "metadata": {},
     "output_type": "display_data"
    }
   ],
   "source": [
    "# Create a point plot to see the differences between passenger classes in the survival rate\n",
    "ax = sns.pointplot(x=\"pclass\", y=\"survived\", hue=\"age_range\", data=titanic_data_age, ci = None, hue_order = ['<=18', 'Adults', '>55'])\n"
   ]
  },
  {
   "cell_type": "markdown",
   "metadata": {},
   "source": [
    "### 4. **Was the location of the cabin a key factor on survival rate?**"
   ]
  },
  {
   "cell_type": "markdown",
   "metadata": {},
   "source": [
    "#### Map of the different decks"
   ]
  },
  {
   "cell_type": "markdown",
   "metadata": {},
   "source": [
    "<img src=\"https://upload.wikimedia.org/wikipedia/commons/thumb/8/84/Titanic_cutaway_diagram.png/800px-Titanic_cutaway_diagram.png\" width=\"800\">\n",
    "\n"
   ]
  },
  {
   "cell_type": "code",
   "execution_count": 23,
   "metadata": {},
   "outputs": [
    {
     "name": "stderr",
     "output_type": "stream",
     "text": [
      "C:\\Users\\Serg\\Anaconda3\\envs\\py3\\lib\\site-packages\\ipykernel_launcher.py:2: SettingWithCopyWarning: \n",
      "A value is trying to be set on a copy of a slice from a DataFrame.\n",
      "Try using .loc[row_indexer,col_indexer] = value instead\n",
      "\n",
      "See the caveats in the documentation: http://pandas.pydata.org/pandas-docs/stable/indexing.html#indexing-view-versus-copy\n",
      "  \n"
     ]
    },
    {
     "data": {
      "text/plain": [
       "<matplotlib.axes._subplots.AxesSubplot at 0x19cf6fd6b38>"
      ]
     },
     "execution_count": 23,
     "metadata": {},
     "output_type": "execute_result"
    },
    {
     "data": {
      "image/png": "[encoded data removed]",
      "text/plain": [
       "<matplotlib.figure.Figure at 0x19cf6dba710>"
      ]
     },
     "metadata": {},
     "output_type": "display_data"
    }
   ],
   "source": [
    "# People by floor (letter of Cabin)\n",
    "titanic_data_cabins['floor'] = titanic_data_cabins['cabin'].astype(str).str[0]\n",
    "titanic_data_cabins['floor'].value_counts().plot(kind ='bar')\n"
   ]
  },
  {
   "cell_type": "code",
   "execution_count": 25,
   "metadata": {},
   "outputs": [
    {
     "data": {
      "text/plain": [
       "[<matplotlib.text.Text at 0x19cf7180898>,\n",
       " <matplotlib.text.Text at 0x19cf6f6d208>]"
      ]
     },
     "execution_count": 25,
     "metadata": {},
     "output_type": "execute_result"
    },
    {
     "data": {
      "image/png": "[encoded data removed]",
      "text/plain": [
       "<matplotlib.figure.Figure at 0x19cf7116d30>"
      ]
     },
     "metadata": {},
     "output_type": "display_data"
    }
   ],
   "source": [
    "# Create a barplot \n",
    "ax = sns.barplot(x=\"floor\", y=\"survived\", data = titanic_data_cabins, ci = None)\n",
    "\n",
    "# Add percentage tags to the top of each bar\n",
    "for p in ax.patches:\n",
    "    ax.annotate(\"{:.1%}\".format(p.get_height()), (p.get_x() + 0.09, p.get_height() + 0.02), fontsize = 9)\n",
    "\n",
    "# Rename the labels\n",
    "ax.set(xlabel='Floor', ylabel='Survival Rate')\n",
    "\n",
    "# CREAR UN GRÁFICO QUE MUESTRE QUE LA GENTE QUE VIAJABA EN CAMAROTE SOBREVIVIÓ MÁS QUE EL RESTO DE LOS PASAJEROS"
   ]
  },
  {
   "cell_type": "markdown",
   "metadata": {},
   "source": []
  },
  {
   "cell_type": "markdown",
   "metadata": {
    "collapsed": true
   },
   "source": [
    "## Conclusions\n",
    "\n",
    "As we have realized"
   ]
  },
  {
   "cell_type": "code",
   "execution_count": null,
   "metadata": {
    "collapsed": true
   },
   "outputs": [],
   "source": []
  }
 ],
 "metadata": {
  "kernelspec": {
   "display_name": "Python 3",
   "language": "python",
   "name": "python3"
  },
  "language_info": {
   "codemirror_mode": {
    "name": "ipython",
    "version": 3
   },
   "file_extension": ".py",
   "mimetype": "text/x-python",
   "name": "python",
   "nbconvert_exporter": "python",
   "pygments_lexer": "ipython3",
   "version": "3.6.1"
  }
 },
 "nbformat": 4,
 "nbformat_minor": 2
}
