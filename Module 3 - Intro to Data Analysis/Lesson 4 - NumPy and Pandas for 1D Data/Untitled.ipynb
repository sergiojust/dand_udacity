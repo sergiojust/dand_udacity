{
 "cells": [
  {
   "cell_type": "code",
   "execution_count": 2,
   "metadata": {
    "collapsed": true
   },
   "outputs": [],
   "source": [
    "import unicodecsv\n",
    "def read_csv(filename):\n",
    "    with open(filename, 'rb') as f:\n",
    "        reader = unicodecsv.DictReader(f)\n",
    "        return list(reader)\n",
    "daily_engagement = read_csv('C:\\Users\\Serg\\Documents\\Aprendiendo\\Data Analysis\\Module 3 - Intro to Data Analysis\\daily_engagement_full.csv')"
   ]
  },
  {
   "cell_type": "code",
   "execution_count": 3,
   "metadata": {},
   "outputs": [
    {
     "data": {
      "text/plain": [
       "1237"
      ]
     },
     "execution_count": 3,
     "metadata": {},
     "output_type": "execute_result"
    }
   ],
   "source": [
    "def get_unique_students(data):\n",
    "    unique_students = set()\n",
    "    for data_point in data:\n",
    "        unique_students.add(data_point['acct'])\n",
    "    return unique_students\n",
    "unique_engagement_students = get_unique_students(daily_engagement)\n",
    "len(unique_engagement_students)"
   ]
  },
  {
   "cell_type": "code",
   "execution_count": 8,
   "metadata": {
    "collapsed": true
   },
   "outputs": [],
   "source": [
    "import numpy as np\n",
    "import pandas as pd\n",
    "import seaborn as sns"
   ]
  },
  {
   "cell_type": "code",
   "execution_count": 2,
   "metadata": {
    "collapsed": true
   },
   "outputs": [],
   "source": [
    "daily_engagement = pd.read_csv('C:\\Users\\Serg\\Documents\\Aprendiendo\\Data Analysis\\Module 3 - Intro to Data Analysis\\daily_engagement_full.csv')"
   ]
  },
  {
   "cell_type": "code",
   "execution_count": 3,
   "metadata": {},
   "outputs": [
    {
     "data": {
      "text/plain": [
       "1237"
      ]
     },
     "execution_count": 3,
     "metadata": {},
     "output_type": "execute_result"
    }
   ],
   "source": [
    "len(daily_engagement['acct'].unique())"
   ]
  },
  {
   "cell_type": "code",
   "execution_count": 6,
   "metadata": {},
   "outputs": [],
   "source": [
    "enrollments_df = pd.DataFrame({\n",
    "    'account_key':[448,448,448,448,448],\n",
    "    'status': ['canceled', 'canceled', 'canceled', 'canceled', 'current'],\n",
    "    'join_date': ['2014-11-10', '2014-11-10', '2014-11-10', '2014-11-10', '2014-11-10'],\n",
    "    'days_to_cancel': [65, 5, 0, 0, np.nan],\n",
    "    'is_udacity': [True, True, True, True, True]    \n",
    "})"
   ]
  },
  {
   "cell_type": "code",
   "execution_count": 9,
   "metadata": {},
   "outputs": [
    {
     "name": "stdout",
     "output_type": "stream",
     "text": [
      "   account_key  days_to_cancel  is_udacity   join_date    status\n",
      "0          448            65.0        True  2014-11-10  canceled\n",
      "1          448             5.0        True  2014-11-10  canceled\n",
      "2          448             0.0        True  2014-11-10  canceled\n",
      "3          448             0.0        True  2014-11-10  canceled\n",
      "4          448             NaN        True  2014-11-10   current\n"
     ]
    }
   ],
   "source": [
    "print(enrollments_df)"
   ]
  },
  {
   "cell_type": "code",
   "execution_count": 10,
   "metadata": {},
   "outputs": [
    {
     "data": {
      "text/html": [
       "<div>\n",
       "<style>\n",
       "    .dataframe thead tr:only-child th {\n",
       "        text-align: right;\n",
       "    }\n",
       "\n",
       "    .dataframe thead th {\n",
       "        text-align: left;\n",
       "    }\n",
       "\n",
       "    .dataframe tbody tr th {\n",
       "        vertical-align: top;\n",
       "    }\n",
       "</style>\n",
       "<table border=\"1\" class=\"dataframe\">\n",
       "  <thead>\n",
       "    <tr style=\"text-align: right;\">\n",
       "      <th></th>\n",
       "      <th>account_key</th>\n",
       "      <th>days_to_cancel</th>\n",
       "      <th>is_udacity</th>\n",
       "      <th>join_date</th>\n",
       "      <th>status</th>\n",
       "    </tr>\n",
       "  </thead>\n",
       "  <tbody>\n",
       "    <tr>\n",
       "      <th>0</th>\n",
       "      <td>448</td>\n",
       "      <td>65.0</td>\n",
       "      <td>True</td>\n",
       "      <td>2014-11-10</td>\n",
       "      <td>canceled</td>\n",
       "    </tr>\n",
       "    <tr>\n",
       "      <th>1</th>\n",
       "      <td>448</td>\n",
       "      <td>5.0</td>\n",
       "      <td>True</td>\n",
       "      <td>2014-11-10</td>\n",
       "      <td>canceled</td>\n",
       "    </tr>\n",
       "    <tr>\n",
       "      <th>2</th>\n",
       "      <td>448</td>\n",
       "      <td>0.0</td>\n",
       "      <td>True</td>\n",
       "      <td>2014-11-10</td>\n",
       "      <td>canceled</td>\n",
       "    </tr>\n",
       "    <tr>\n",
       "      <th>3</th>\n",
       "      <td>448</td>\n",
       "      <td>0.0</td>\n",
       "      <td>True</td>\n",
       "      <td>2014-11-10</td>\n",
       "      <td>canceled</td>\n",
       "    </tr>\n",
       "    <tr>\n",
       "      <th>4</th>\n",
       "      <td>448</td>\n",
       "      <td>NaN</td>\n",
       "      <td>True</td>\n",
       "      <td>2014-11-10</td>\n",
       "      <td>current</td>\n",
       "    </tr>\n",
       "  </tbody>\n",
       "</table>\n",
       "</div>"
      ],
      "text/plain": [
       "   account_key  days_to_cancel  is_udacity   join_date    status\n",
       "0          448            65.0        True  2014-11-10  canceled\n",
       "1          448             5.0        True  2014-11-10  canceled\n",
       "2          448             0.0        True  2014-11-10  canceled\n",
       "3          448             0.0        True  2014-11-10  canceled\n",
       "4          448             NaN        True  2014-11-10   current"
      ]
     },
     "execution_count": 10,
     "metadata": {},
     "output_type": "execute_result"
    }
   ],
   "source": [
    "enrollments_df"
   ]
  },
  {
   "cell_type": "code",
   "execution_count": 11,
   "metadata": {},
   "outputs": [
    {
     "data": {
      "text/plain": [
       "account_key       448.0\n",
       "days_to_cancel     17.5\n",
       "is_udacity          1.0\n",
       "dtype: float64"
      ]
     },
     "execution_count": 11,
     "metadata": {},
     "output_type": "execute_result"
    }
   ],
   "source": [
    "enrollments_df.mean(axis=0)"
   ]
  },
  {
   "cell_type": "code",
   "execution_count": 14,
   "metadata": {},
   "outputs": [
    {
     "data": {
      "text/plain": [
       "0    171.333333\n",
       "1    151.333333\n",
       "2    149.666667\n",
       "3    149.666667\n",
       "4    224.500000\n",
       "dtype: float64"
      ]
     },
     "execution_count": 14,
     "metadata": {},
     "output_type": "execute_result"
    }
   ],
   "source": [
    "enrollments_df.mean(axis=1)"
   ]
  },
  {
   "cell_type": "code",
   "execution_count": null,
   "metadata": {
    "collapsed": true
   },
   "outputs": [],
   "source": []
  }
 ],
 "metadata": {
  "kernelspec": {
   "display_name": "Python 3",
   "language": "python",
   "name": "python3"
  },
  "language_info": {
   "codemirror_mode": {
    "name": "ipython",
    "version": 3
   },
   "file_extension": ".py",
   "mimetype": "text/x-python",
   "name": "python",
   "nbconvert_exporter": "python",
   "pygments_lexer": "ipython3",
   "version": "3.6.7"
  }
 },
 "nbformat": 4,
 "nbformat_minor": 2
}
